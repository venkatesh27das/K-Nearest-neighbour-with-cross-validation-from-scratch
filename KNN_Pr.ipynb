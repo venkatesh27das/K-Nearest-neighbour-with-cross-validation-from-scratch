{
 "cells": [
  {
   "cell_type": "code",
   "execution_count": 250,
   "metadata": {},
   "outputs": [],
   "source": [
    "import pandas as pd\n",
    "import numpy as np\n",
    "from sklearn.preprocessing import LabelEncoder,OneHotEncoder\n",
    "from sklearn.model_selection import train_test_split\n",
    "import math\n",
    "import matplotlib.pyplot as plt\n",
    "import matplotlib.patches as mpatches\n",
    "import operator\n",
    "from random import seed\n",
    "from random import randrange\n",
    "%matplotlib inline"
   ]
  },
  {
   "cell_type": "code",
   "execution_count": 251,
   "metadata": {},
   "outputs": [],
   "source": [
    "dat = pd.read_csv('data.csv', header = None)\n",
    "trainset = dat.iloc[1:,:].as_matrix()\n",
    "trainset.astype(float)\n",
    "test = [[3,2]]\n",
    "test=np.array(test)\n",
    "trainset_copy=trainset\n",
    "trainset_copy=np.array(trainset_copy)"
   ]
  },
  {
   "cell_type": "code",
   "execution_count": 252,
   "metadata": {},
   "outputs": [
    {
     "data": {
      "image/png": "[encoded data removed]",
      "text/plain": [
       "<matplotlib.figure.Figure at 0x235bdbbe7f0>"
      ]
     },
     "metadata": {},
     "output_type": "display_data"
    }
   ],
   "source": [
    "df = pd.read_csv('data.csv')\n",
    "data = df.astype(float).values.tolist()\n",
    "plt.figure(num=1,figsize=(15, 7))\n",
    "for i in data:\n",
    "    if(i[2] == 1):\n",
    "        plt.scatter(i[0],i[1],s=40,c='r',marker='o')\n",
    "    elif(i[2] == 2):\n",
    "        plt.scatter(i[0],i[1],s=40,c='b',marker='+')\n",
    "    else:\n",
    "        plt.scatter(i[0],i[1],s=40,c='g',marker='x')\n",
    "    \n",
    "red_patch = mpatches.Patch(color='red', label='Class 1')\n",
    "blue_patch = mpatches.Patch(color='blue', label='Class 2')\n",
    "green_patch = mpatches.Patch(color='green', label='Class 3')\n",
    "plt.legend(handles=[red_patch, blue_patch, green_patch])\n",
    "plt.scatter(3,2, s = 60, c = 'y', marker = '*')\n",
    "plt.text(2.75,2.25, r'Test point')\n",
    "plt.show()"
   ]
  },
  {
   "cell_type": "code",
   "execution_count": 253,
   "metadata": {},
   "outputs": [],
   "source": [
    "def euclideanDistance(instance1, instance2, length):\n",
    "    distance = 0\n",
    "    for x in range(length):\n",
    "        distance += pow((instance1[x] - instance2[x]), 2)\n",
    "    return math.sqrt(distance)"
   ]
  },
  {
   "cell_type": "code",
   "execution_count": 254,
   "metadata": {},
   "outputs": [],
   "source": [
    "def getNeighbors(trainingSet, testInstance, k):\n",
    "    distances = []\n",
    "    length = len(testInstance)-1\n",
    "    for x in range(len(trainingSet)):\n",
    "        dist = euclideanDistance(testInstance, trainingSet[x], length)\n",
    "        distances.append((trainingSet[x], dist))\n",
    "    distances.sort(key=operator.itemgetter(1))\n",
    "    neighbors = []\n",
    "    for x in range(k):\n",
    "        neighbors.append(distances[x][0])\n",
    "    return neighbors"
   ]
  },
  {
   "cell_type": "code",
   "execution_count": 255,
   "metadata": {},
   "outputs": [],
   "source": [
    "def cross_validation_split(dataset, folds=3):\n",
    "    dataset_split = list()\n",
    "    dataset_copy =list(dataset)\n",
    "    fold_size = int(len(dataset) / folds)\n",
    "    for i in range(folds):\n",
    "        fold = list()\n",
    "        while len(fold) < fold_size:\n",
    "            index = randrange(len(dataset_copy))\n",
    "            fold.append(dataset_copy.pop(index))\n",
    "        dataset_split.append(fold)\n",
    "    return dataset_split"
   ]
  },
  {
   "cell_type": "code",
   "execution_count": 256,
   "metadata": {},
   "outputs": [],
   "source": [
    "def getResponse(neighbors):\n",
    "    classVotes = {}\n",
    "    for x in range(len(neighbors)):\n",
    "        response = neighbors[x][-1]\n",
    "        if response in classVotes:\n",
    "            classVotes[response] += 1\n",
    "        else:\n",
    "            classVotes[response] = 1\n",
    "    sortedVotes = sorted(classVotes.items(), key=operator.itemgetter(1), reverse=True)\n",
    "    return sortedVotes[0][0]"
   ]
  },
  {
   "cell_type": "code",
   "execution_count": 257,
   "metadata": {},
   "outputs": [],
   "source": [
    "total_accuracy=list()\n",
    "def test_accuracy(trainset,iterations,k):\n",
    "    for j in range(iterations):\n",
    "        split_data = cross_validation_split(trainset)\n",
    "        split_data = np.array(split_data, dtype=np.float)\n",
    "        a = split_data[0]\n",
    "        b = split_data[1]\n",
    "        c = split_data[2]\n",
    "        new_train=np.concatenate((a,b))\n",
    "        ans=list()\n",
    "        for i in range(0,len(c)):\n",
    "            neigh = getNeighbors(new_train,c[i],k)\n",
    "            cl=getResponse(neigh)            \n",
    "            if(cl==c[i][2]):\n",
    "                   ans.append(1)\n",
    "            else:\n",
    "                ans.append(0)\n",
    "        c1=0\n",
    "        for i in range(len(ans)):\n",
    "            if(ans[i]==1):\n",
    "                c1+=1    \n",
    "        total_accuracy.append((c1/len(ans))*100) \n",
    "        print(\"Iterations\",j+1,\" accuracy :\",((c1/len(ans))*100))\n",
    "    s=0\n",
    "    for i in range(len(total_accuracy)):\n",
    "        s=s+total_accuracy[i]\n",
    "    average = s/len(total_accuracy)\n",
    "    print(\"--------------------Average accuracy for k =\",k,\" : \",average,\"--------------\")"
   ]
  },
  {
   "cell_type": "code",
   "execution_count": 258,
   "metadata": {},
   "outputs": [
    {
     "name": "stdout",
     "output_type": "stream",
     "text": [
      "for k =  1\n",
      "Iterations 1  accuracy : 83.33333333333334\n",
      "Iterations 2  accuracy : 100.0\n",
      "Iterations 3  accuracy : 100.0\n",
      "Iterations 4  accuracy : 100.0\n",
      "Iterations 5  accuracy : 100.0\n",
      "Iterations 6  accuracy : 100.0\n",
      "Iterations 7  accuracy : 100.0\n",
      "Iterations 8  accuracy : 100.0\n",
      "Iterations 9  accuracy : 83.33333333333334\n",
      "Iterations 10  accuracy : 83.33333333333334\n",
      "--------------------Average accuracy for k = 1  :  95.00000000000001 --------------\n",
      "for k =  3\n",
      "Iterations 1  accuracy : 100.0\n",
      "Iterations 2  accuracy : 100.0\n",
      "Iterations 3  accuracy : 100.0\n",
      "Iterations 4  accuracy : 100.0\n",
      "Iterations 5  accuracy : 83.33333333333334\n",
      "Iterations 6  accuracy : 100.0\n",
      "Iterations 7  accuracy : 83.33333333333334\n",
      "Iterations 8  accuracy : 100.0\n",
      "Iterations 9  accuracy : 100.0\n",
      "Iterations 10  accuracy : 100.0\n",
      "--------------------Average accuracy for k = 3  :  95.83333333333333 --------------\n",
      "for k =  5\n",
      "Iterations 1  accuracy : 66.66666666666666\n",
      "Iterations 2  accuracy : 50.0\n",
      "Iterations 3  accuracy : 100.0\n",
      "Iterations 4  accuracy : 50.0\n",
      "Iterations 5  accuracy : 50.0\n",
      "Iterations 6  accuracy : 83.33333333333334\n",
      "Iterations 7  accuracy : 83.33333333333334\n",
      "Iterations 8  accuracy : 83.33333333333334\n",
      "Iterations 9  accuracy : 33.33333333333333\n",
      "Iterations 10  accuracy : 100.0\n",
      "--------------------Average accuracy for k = 5  :  87.22222222222223 --------------\n"
     ]
    }
   ],
   "source": [
    "for k in range(1,6,2):\n",
    "    iterations = 10\n",
    "    print(\"for k = \",k)\n",
    "    test_accuracy(trainset,iterations,k)"
   ]
  },
  {
   "cell_type": "code",
   "execution_count": 259,
   "metadata": {},
   "outputs": [
    {
     "name": "stdout",
     "output_type": "stream",
     "text": [
      "For k =  1 class =  3.0\n",
      "For k =  3 class =  3.0\n",
      "For k =  5 class =  3.0\n"
     ]
    }
   ],
   "source": [
    "testInstance = [3,2]\n",
    "for k in range(1,6,2):\n",
    "    neighbors = getNeighbors(data, testInstance, k)\n",
    "    cl =getResponse(neighbors)\n",
    "    print(\"For k = \",k,\"class = \",cl)"
   ]
  },
  {
   "cell_type": "code",
   "execution_count": null,
   "metadata": {},
   "outputs": [],
   "source": []
  }
 ],
 "metadata": {
  "kernelspec": {
   "display_name": "Python 3",
   "language": "python",
   "name": "python3"
  },
  "language_info": {
   "codemirror_mode": {
    "name": "ipython",
    "version": 3
   },
   "file_extension": ".py",
   "mimetype": "text/x-python",
   "name": "python",
   "nbconvert_exporter": "python",
   "pygments_lexer": "ipython3",
   "version": "3.6.2"
  }
 },
 "nbformat": 4,
 "nbformat_minor": 2
}
